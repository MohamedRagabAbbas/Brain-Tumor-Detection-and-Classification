{
 "cells": [
  {
   "cell_type": "code",
   "execution_count": 1,
   "id": "449d9a40-d553-417a-be06-19e95805db86",
   "metadata": {},
   "outputs": [],
   "source": [
    "import pandas as pd\n",
    "import numpy as np\n",
    "import matplotlib.pyplot as plt\n",
    "import os, shutil\n",
    "import matplotlib.image as mpimg\n",
    "import seaborn as sns\n",
    "%matplotlib inline\n",
    "import tensorflow as tf\n",
    "import cv2\n",
    "from tensorflow.keras.preprocessing.image import ImageDataGenerator"
   ]
  },
  {
   "cell_type": "code",
   "execution_count": 2,
   "id": "df4ec402-6a98-4e66-bbfa-06d70ec8c46c",
   "metadata": {},
   "outputs": [
    {
     "name": "stdout",
     "output_type": "stream",
     "text": [
      "Glioma num is :  1321\n",
      "Meningioma num is :  1339\n",
      "Notumor num is :  1595\n",
      "Pituitary num is :  1457\n"
     ]
    }
   ],
   "source": [
    "gliomaDir = \"../dataset/Training/glioma/\"\n",
    "gliomaList = os.listdir(gliomaDir)\n",
    "gliomaSize = len(gliomaList)\n",
    "\n",
    "meningiomaDir = \"../dataset/Training/meningioma/\"\n",
    "meningiomaList = os.listdir(meningiomaDir)\n",
    "meningiomaSize = len(meningiomaList)\n",
    "\n",
    "notumorDir = \"../dataset/Training/notumor/\"\n",
    "notumorList = os.listdir(notumorDir)\n",
    "notumorSize = len(notumorList)\n",
    "\n",
    "pituitaryDir = \"../dataset/Training/pituitary/\"\n",
    "pituitaryList = os.listdir(pituitaryDir)\n",
    "pituitarySize = len(pituitaryList)\n",
    "\n",
    "print (f\"Glioma num is : \"    ,gliomaSize)               \n",
    "print (f\"Meningioma num is : \",meningiomaSize)               \n",
    "print (f\"Notumor num is : \"   ,notumorSize)               \n",
    "print (f\"Pituitary num is : \" ,pituitarySize)               "
   ]
  },
  {
   "cell_type": "code",
   "execution_count": 3,
   "id": "7ea2fdce-cee0-470e-ab9d-3688ad9f0a06",
   "metadata": {},
   "outputs": [
    {
     "data": {
      "text/plain": [
       "Text(0.5, 1.0, 'Count of Brain Tumor Images')"
      ]
     },
     "execution_count": 3,
     "metadata": {},
     "output_type": "execute_result"
    },
    {
     "data": {
      "image/png": "[encoded data removed]",
      "text/plain": [
       "<Figure size 640x480 with 1 Axes>"
      ]
     },
     "metadata": {},
     "output_type": "display_data"
    }
   ],
   "source": [
    "data = {'Glioma':gliomaSize,'Meningioma':meningiomaSize,'Notumor':notumorSize,'Pituitary':pituitarySize}\n",
    "plt.bar(data.keys(),data.values())\n",
    "plt.xlabel('Segmentation')\n",
    "plt.ylabel('Count')\n",
    "plt.title(\"Count of Brain Tumor Images\")"
   ]
  },
  {
   "cell_type": "code",
   "execution_count": 4,
   "id": "c084d8b6-e816-4760-8d6c-88b89f52f9af",
   "metadata": {},
   "outputs": [],
   "source": [
    "### The data are balanced to some extent, but for parctice, let us make data augmentation"
   ]
  },
  {
   "cell_type": "code",
   "execution_count": 5,
   "id": "fb01181b-f833-4e43-863e-b64afb27b85d",
   "metadata": {},
   "outputs": [],
   "source": [
    "def timing(sec_elapsed):\n",
    "    h = int(sec_elapsed / (60*60))\n",
    "    m = int(sec_elapsed % (60*60) / 60)\n",
    "    s = sec_elapsed % 60\n",
    "    return f\"{h}:{m}:{s}\""
   ]
  },
  {
   "cell_type": "code",
   "execution_count": 24,
   "id": "b40d518c-8814-41fe-bfb5-0a343f1b1170",
   "metadata": {},
   "outputs": [],
   "source": [
    "def dataAugmentation(directory,numberOfnewImages,newname,initialNumber):\n",
    "    generator = ImageDataGenerator(rotation_range=10, width_shift_range=0.1,height_shift_range=0.1,shear_range=0.1,\n",
    "                                   brightness_range=(0.3, 1.0),horizontal_flip=True,vertical_flip=True,fill_mode='nearest')\n",
    "    counter = 0;\n",
    "    number = int(initialNumber)\n",
    "    for imageName in os.listdir(directory):\n",
    "        #read the image\n",
    "        image = cv2.imread(directory + '/' + imageName)\n",
    "        image = image.reshape((1,) + image.shape) # Reshape the image to a format compatible with Keras \n",
    "        save_prefix  = newname + str(number)\n",
    "        # print(newname)\n",
    "        # print(number)\n",
    "        # print(save_prefix)\n",
    "        # print('----------')\n",
    "        for batch in generator.flow(x = image, batch_size = 1, save_to_dir = directory, save_prefix = save_prefix, save_format = \"jpg\"):\n",
    "            break\n",
    "        counter+=1\n",
    "        number+=1\n",
    "        if(counter>=numberOfnewImages):\n",
    "            break\n"
   ]
  },
  {
   "cell_type": "code",
   "execution_count": 25,
   "id": "aa018fe5-6dfd-45cd-a0e3-4aa9f6efdcd0",
   "metadata": {},
   "outputs": [
    {
     "ename": "TypeError",
     "evalue": "ImageDataGenerator.flow() got an unexpected keyword argument 'save'",
     "output_type": "error",
     "traceback": [
      "\u001b[1;31m---------------------------------------------------------------------------\u001b[0m",
      "\u001b[1;31mTypeError\u001b[0m                                 Traceback (most recent call last)",
      "Cell \u001b[1;32mIn[25], line 1\u001b[0m\n\u001b[1;32m----> 1\u001b[0m dataAugmentation(gliomaDir,\u001b[38;5;241m200\u001b[39m,\u001b[38;5;124m'\u001b[39m\u001b[38;5;124mTr-gl_\u001b[39m\u001b[38;5;124m'\u001b[39m,gliomaSize)\n\u001b[0;32m      2\u001b[0m dataAugmentation(meningiomaDir,\u001b[38;5;241m200\u001b[39m,\u001b[38;5;124m'\u001b[39m\u001b[38;5;124mTr-me_\u001b[39m\u001b[38;5;124m'\u001b[39m,meningiomaSize)\n\u001b[0;32m      3\u001b[0m dataAugmentation(pituitaryDir,\u001b[38;5;241m100\u001b[39m,\u001b[38;5;124m'\u001b[39m\u001b[38;5;124mTr-pi_\u001b[39m\u001b[38;5;124m'\u001b[39m,pituitarySize)\n",
      "Cell \u001b[1;32mIn[24], line 15\u001b[0m, in \u001b[0;36mdataAugmentation\u001b[1;34m(directory, numberOfnewImages, newname, initialNumber)\u001b[0m\n\u001b[0;32m     10\u001b[0m save_prefix  \u001b[38;5;241m=\u001b[39m newname \u001b[38;5;241m+\u001b[39m \u001b[38;5;28mstr\u001b[39m(number)\n\u001b[0;32m     11\u001b[0m \u001b[38;5;66;03m# print(newname)\u001b[39;00m\n\u001b[0;32m     12\u001b[0m \u001b[38;5;66;03m# print(number)\u001b[39;00m\n\u001b[0;32m     13\u001b[0m \u001b[38;5;66;03m# print(save_prefix)\u001b[39;00m\n\u001b[0;32m     14\u001b[0m \u001b[38;5;66;03m# print('----------')\u001b[39;00m\n\u001b[1;32m---> 15\u001b[0m \u001b[38;5;28;01mfor\u001b[39;00m batch \u001b[38;5;129;01min\u001b[39;00m generator\u001b[38;5;241m.\u001b[39mflow(x \u001b[38;5;241m=\u001b[39m image, batch_size \u001b[38;5;241m=\u001b[39m \u001b[38;5;241m1\u001b[39m, save_to_dir \u001b[38;5;241m=\u001b[39m directory, save \u001b[38;5;241m=\u001b[39m save_prefix, save_format \u001b[38;5;241m=\u001b[39m \u001b[38;5;124m\"\u001b[39m\u001b[38;5;124mjpg\u001b[39m\u001b[38;5;124m\"\u001b[39m):\n\u001b[0;32m     16\u001b[0m     \u001b[38;5;28;01mbreak\u001b[39;00m\n\u001b[0;32m     17\u001b[0m counter\u001b[38;5;241m+\u001b[39m\u001b[38;5;241m=\u001b[39m\u001b[38;5;241m1\u001b[39m\n",
      "\u001b[1;31mTypeError\u001b[0m: ImageDataGenerator.flow() got an unexpected keyword argument 'save'"
     ]
    }
   ],
   "source": [
    "# dataAugmentation(gliomaDir,200,'Tr-gl_',gliomaSize)\n",
    "# dataAugmentation(meningiomaDir,200,'Tr-me_',meningiomaSize)\n",
    "# dataAugmentation(pituitaryDir,100,'Tr-pi_',pituitarySize)"
   ]
  },
  {
   "cell_type": "code",
   "execution_count": 17,
   "id": "cf08dd22-644b-4a33-8dc6-acd62092b4ad",
   "metadata": {},
   "outputs": [],
   "source": []
  },
  {
   "cell_type": "code",
   "execution_count": 18,
   "id": "ca9fbf9b-971c-4430-9f32-ad79a43ee896",
   "metadata": {},
   "outputs": [],
   "source": []
  },
  {
   "cell_type": "code",
   "execution_count": null,
   "id": "d43db8ae-fbb8-4c27-841c-fdd7aaa0f20b",
   "metadata": {},
   "outputs": [],
   "source": []
  },
  {
   "cell_type": "code",
   "execution_count": null,
   "id": "7949a10f-1819-4c8c-a058-74bd60e4d082",
   "metadata": {},
   "outputs": [],
   "source": []
  }
 ],
 "metadata": {
  "kernelspec": {
   "display_name": "Python 3 (ipykernel)",
   "language": "python",
   "name": "python3"
  },
  "language_info": {
   "codemirror_mode": {
    "name": "ipython",
    "version": 3
   },
   "file_extension": ".py",
   "mimetype": "text/x-python",
   "name": "python",
   "nbconvert_exporter": "python",
   "pygments_lexer": "ipython3",
   "version": "3.11.7"
  }
 },
 "nbformat": 4,
 "nbformat_minor": 5
}
